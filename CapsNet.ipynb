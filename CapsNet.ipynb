{
  "nbformat": 4,
  "nbformat_minor": 0,
  "metadata": {
    "colab": {
      "name": "CapsNet.ipynb",
      "provenance": [],
      "authorship_tag": "ABX9TyPPiMQqbPcVVwNRcRAIj+cK",
      "include_colab_link": true
    },
    "kernelspec": {
      "name": "python3",
      "display_name": "Python 3"
    }
  },
  "cells": [
    {
      "cell_type": "markdown",
      "metadata": {
        "id": "view-in-github",
        "colab_type": "text"
      },
      "source": [
        "<a href=\"https://colab.research.google.com/github/MoGomaa/CapsuleNetworks/blob/main/CapsNet.ipynb\" target=\"_parent\"><img src=\"https://colab.research.google.com/assets/colab-badge.svg\" alt=\"Open In Colab\"/></a>"
      ]
    },
    {
      "cell_type": "code",
      "metadata": {
        "id": "o3k_tqDmY2uG"
      },
      "source": [
        "import tensorflow as tf"
      ],
      "execution_count": 1,
      "outputs": []
    },
    {
      "cell_type": "code",
      "metadata": {
        "colab": {
          "base_uri": "https://localhost:8080/",
          "height": 35
        },
        "id": "kRNLbN8WY751",
        "outputId": "463185b5-662c-4758-e7de-d5c641743062"
      },
      "source": [
        "tf.__version__"
      ],
      "execution_count": 2,
      "outputs": [
        {
          "output_type": "execute_result",
          "data": {
            "application/vnd.google.colaboratory.intrinsic+json": {
              "type": "string"
            },
            "text/plain": [
              "'2.4.1'"
            ]
          },
          "metadata": {
            "tags": []
          },
          "execution_count": 2
        }
      ]
    },
    {
      "cell_type": "code",
      "metadata": {
        "id": "Kl867KLCab89"
      },
      "source": [
        "# If you using Google Colab with Google Drive you have to mount your drive first then using import_ipynb lib to import CapsuleLayer\r\n",
        "# This might be useful: https://stackoverflow.com/questions/59020008/how-to-import-functions-of-a-jupyter-notebook-into-another-jupyter-notebook-in-g\r\n",
        "\r\n",
        "from CapsLayer import CapsuleLayer"
      ],
      "execution_count": null,
      "outputs": []
    },
    {
      "cell_type": "code",
      "metadata": {
        "id": "HzmH7eEtZC3i"
      },
      "source": [
        "class CapsuleNetwork(tf.keras.Model):\r\n",
        "  def __init__(self, conv_kernels, primary_num_capsules, primary_capsule_dimension, digit_num_capsules, digit_capsule_dimension, routings):\r\n",
        "    super(CapsuleNetwork, self).__init__()\r\n",
        "    self.conv_kernels              = conv_kernels\r\n",
        "    self.primary_num_capsules      = primary_num_capsules\r\n",
        "    self.primary_capsule_dimension = primary_capsule_dimension\r\n",
        "    self.digit_num_capsules        = digit_num_capsules\r\n",
        "    self.digit_capsule_dimension   = digit_capsule_dimension\r\n",
        "    self.routings                  = routings\r\n",
        "\r\n",
        "    with tf.name_scope(\"Variables\") as scope:\r\n",
        "      self.conv1       = tf.keras.layers.Conv2D(self.conv_kernels, kernel_size=[9,9], strides=[1,1], name='conv1', activation='relu')\r\n",
        "      self.conv2       = tf.keras.layers.Conv2D(self.conv_kernels, kernel_size=[9,9], strides=[2,2], name=\"conv2\")\r\n",
        "      \r\n",
        "      self.CapsPrimary = CapsuleLayer(primary_num_capsules, primary_capsule_dimension, layer_type=\"CapsPrimary\")\r\n",
        "      self.CapsFC      = CapsuleLayer(digit_num_capsules, digit_capsule_dimension, layer_type=\"CapsFC\")\r\n",
        "      \r\n",
        "      self.dense_1     = tf.keras.layers.Dense(units = 512, activation='relu')\r\n",
        "      self.dense_2     = tf.keras.layers.Dense(units = 1024, activation='relu')\r\n",
        "      self.dense_3     = tf.keras.layers.Dense(units = 784, activation='sigmoid', dtype='float32')\r\n",
        "\r\n",
        "  @tf.function\r\n",
        "  def call(self, inputs):\r\n",
        "    input_x, y = inputs                                                                   # input_x.shape             : (None, 28, 28, 1)\r\n",
        "                                                                                          # y.shape                   : (None, 10)\r\n",
        "    \r\n",
        "    outs = self.predict_capsule_output(input_x)                                           # outs.shape                : (None, 10, 16)\r\n",
        "    \r\n",
        "    with tf.name_scope(\"Masking\") as scope:\r\n",
        "      y = tf.expand_dims(y, axis=-1)                                                      # y.shape                   : (None, 10, 1)\r\n",
        "      mask = tf.cast(y, dtype=tf.float32)                                                 # mask.shape                : (None, 10, 1)\r\n",
        "      outs_masked = tf.multiply(mask, outs)                                               # outs_masked.shape         : (None, 1, 10, 16)\r\n",
        "\r\n",
        "    reconstructed_image = self.regenerate_image(outs_masked)                              # reconstructed_image.shape : (None, 784)\r\n",
        "    \r\n",
        "    return outs, reconstructed_image\r\n",
        "\r\n",
        "  @tf.function\r\n",
        "  def predict_capsule_output(self, inputs):\r\n",
        "    x    = self.conv1(inputs)                                                             # x.shape    : (None, 20, 20, 256)\r\n",
        "    x    = self.conv2(x)                                                                  # x.shape    : (None, 6, 6, 256)\r\n",
        "    x    = self.CapsPrimary(x)                                                            # x.shape    : (None, 1152, 8)\r\n",
        "    outs = self.CapsFC(x)                                                                 # outs.shape : (None, 10, 16)\r\n",
        "    return outs\r\n",
        "\r\n",
        "  @tf.function\r\n",
        "  def regenerate_image(self, inputs):\r\n",
        "    x = tf.reshape(inputs, [-1, self.digit_num_capsules * self.digit_capsule_dimension])  # x.shape                   : (None, 160)\r\n",
        "    x = self.dense_1(x)                                                                   # x.shape                   : (None, 512)\r\n",
        "    x = self.dense_2(x)                                                                   # x.shape                   : (None, 1024)\r\n",
        "    reconstructed_image = self.dense_3(x)                                                 # reconstructed_image.shape : (None, 784)\r\n",
        "    return reconstructed_image"
      ],
      "execution_count": null,
      "outputs": []
    }
  ]
}